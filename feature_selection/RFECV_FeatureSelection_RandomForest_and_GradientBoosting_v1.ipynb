{
 "cells": [
  {
   "cell_type": "code",
   "execution_count": 1,
   "metadata": {
    "collapsed": false
   },
   "outputs": [],
   "source": [
    "import pandas as pd\n",
    "import numpy as np\n",
    "from sklearn import metrics\n",
    "from sklearn.feature_selection import VarianceThreshold\n",
    "from sklearn import preprocessing\n",
    "from sklearn import cross_validation\n",
    "from sklearn import linear_model\n",
    "import warnings\n",
    "\n",
    "import time\n",
    "from sklearn.feature_extraction import DictVectorizer\n",
    "from scipy import sparse\n",
    "import pickle\n",
    "\n",
    "import matplotlib.pyplot as plt\n",
    "from sklearn.svm import SVC\n",
    "from sklearn.cross_validation import StratifiedKFold\n",
    "from sklearn.feature_selection import RFECV\n",
    "from sklearn.datasets import make_classification\n",
    "from sklearn.ensemble import RandomForestClassifier\n",
    "from sklearn import datasets\n",
    "import pandas as pd\n",
    "from pandas import Series\n",
    "\n",
    "warnings.simplefilter(\"ignore\")\n",
    "warnings.filterwarnings(\"ignore\")\n",
    "from datetime import datetime\n",
    "%matplotlib inline\n",
    "t = time.time()\n",
    "#elapsed = (time.time() - t)/60"
   ]
  },
  {
   "cell_type": "code",
   "execution_count": 4,
   "metadata": {
    "collapsed": false
   },
   "outputs": [],
   "source": [
    "X=np.load('./mostrecentinput/nxtrain_standard_original0.npy')\n",
    "X1= np.load('./mostrecentinput/nxtrain_standard_derived0.npy')\n",
    "X2=pd.read_pickle(\"./mostrecentinput/time_series_derived_standard_train2.dat\")\n",
    "X3=pd.read_pickle(\"./mostrecentinput/time_series_original_standard_train2.dat\")\n",
    "X4=pd.read_pickle(\"./mostrecentinput/cat_numeric_th60_standard_train2.dat\")\n",
    "X5=pd.read_pickle(\"./mostrecentinput/cat_le_train2.dat\") \n",
    "X=np.hstack((X,X1,X2,X3,X4,X5))\n",
    "\n",
    "y=pickle.load(open(\"./mostrecentinput/ytrain2.dat\",\"rb\"))"
   ]
  },
  {
   "cell_type": "code",
   "execution_count": null,
   "metadata": {
    "collapsed": true
   },
   "outputs": [],
   "source": [
    "class RandomForestClassifierWithCoef(RandomForestClassifier):\n",
    "    def fit(self, *args, **kwargs):\n",
    "        super(RandomForestClassifierWithCoef, self).fit(*args, **kwargs)\n",
    "        self.coef_ = self.feature_importances_\n",
    "\n",
    "#-----------------------------------------------\n",
    "rf = RandomForestClassifierWithCoef(n_estimators=50, min_samples_leaf=5, n_jobs=-1)\n",
    "rfecv = RFECV(estimator=rf, step=40, cv=2, scoring='roc_auc', verbose=2)\n",
    "selector=rfecv.fit(X, y)\n",
    "\n",
    "Xselect=X[:,selector.support_]\n",
    "clf = RandomForestClassifier(n_estimators=50, min_samples_leaf=5, n_jobs=-1)\n",
    "skf = cross_validation.StratifiedKFold(y, n_folds=2) # K-fold cv splitting\n",
    "for train0, cv0 in skf:\n",
    "    train, cv = train0, cv0\n",
    "    break\n",
    "\n",
    "MODEL = clf.fit(Xselect[train,:], y[train])\n",
    "Xselect[train,:].shape\n",
    "AUC1=scorer(MODEL, Xselect[cv,:], y[cv])\n",
    "str1=time.strftime(\"%b%d%Y%H%M%S\", time.localtime())\n",
    "filename='SDGRF_'  +  str1 + '_AUC_' + str(AUC1) + '.p'\n",
    "np.arange(X.shape[1])[selector.support_].dump(filename)\n",
    "print(Xselect[train,:].shape)\n",
    "\n",
    "plt.figure()\n",
    "plt.xlabel(\"Number of features selected\")\n",
    "plt.ylabel(\"Cross validation score (nb of correct classifications)\")\n",
    "plt.plot(range(1, len(selector.grid_scores_) + 1), selector.grid_scores_)\n",
    "plt.show()"
   ]
  },
  {
   "cell_type": "code",
   "execution_count": null,
   "metadata": {
    "collapsed": true
   },
   "outputs": [],
   "source": [
    "from sklearn import ensemble\n",
    "class GradientBoostingClassifierWithCoef(ensemble.GradientBoostingClassifier):\n",
    "    def fit(self, *args, **kwargs):\n",
    "        super(GradientBoostingClassifierWithCoef, self).fit(*args, **kwargs)\n",
    "        self.coef_ = self.feature_importances_\n",
    "\n",
    "\n",
    "original_params = {'n_estimators': 40, 'max_leaf_nodes': 4, 'max_depth': None, 'random_state': 2,\n",
    "                   'min_samples_split': 5}\n",
    "\n",
    "params=original_params\n",
    "GB = GradientBoostingClassifierWithCoef(**params)\n",
    "rfecv = RFECV(estimator=GB, step=100, cv=2, scoring='roc_auc', verbose=2)\n",
    "selector=rfecv.fit(X, y)\n",
    "\n",
    "Xselect=X[:,selector.support_]\n",
    "clf = ensemble.GradientBoostingClassifier(**params)\n",
    "skf = cross_validation.StratifiedKFold(y, n_folds=2) # K-fold cv splitting\n",
    "\n",
    "for train0, cv0 in skf:\n",
    "    train, cv = train0, cv0\n",
    "    break\n",
    "\n",
    "MODEL = clf.fit(Xselect[train,:], y[train])\n",
    "Xselect[train,:].shape\n",
    "AUC1=scorer(MODEL, Xselect[cv,:], y[cv])\n",
    "str1=time.strftime(\"%b%d%Y%H%M%S\", time.localtime())\n",
    "filename='SDGRF_'  +  str1 + '_AUC_' + str(AUC1) + '.p'\n",
    "np.arange(X.shape[1])[selector.support_].dump(filename)\n",
    "print(Xselect[train,:].shape)"
   ]
  }
 ],
 "metadata": {
  "kernelspec": {
   "display_name": "Python 3",
   "language": "python",
   "name": "python3"
  },
  "language_info": {
   "codemirror_mode": {
    "name": "ipython",
    "version": 3
   },
   "file_extension": ".py",
   "mimetype": "text/x-python",
   "name": "python",
   "nbconvert_exporter": "python",
   "pygments_lexer": "ipython3",
   "version": "3.4.3"
  }
 },
 "nbformat": 4,
 "nbformat_minor": 0
}
