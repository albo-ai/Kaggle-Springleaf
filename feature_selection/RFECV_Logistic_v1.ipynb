{
 "cells": [
  {
   "cell_type": "code",
   "execution_count": 1,
   "metadata": {
    "collapsed": false
   },
   "outputs": [],
   "source": [
    "import pandas as pd\n",
    "import numpy as np\n",
    "from sklearn import metrics\n",
    "from sklearn.feature_selection import VarianceThreshold\n",
    "from sklearn import preprocessing\n",
    "from sklearn import cross_validation\n",
    "from sklearn import linear_model\n",
    "import warnings\n",
    "import time\n",
    "from sklearn.feature_extraction import DictVectorizer\n",
    "from scipy import sparse\n",
    "import pickle\n",
    "from datetime import datetime\n",
    "import matplotlib.pyplot as plt\n",
    "from sklearn.svm import SVC\n",
    "from sklearn.cross_validation import StratifiedKFold\n",
    "from sklearn.feature_selection import RFECV\n",
    "from sklearn.datasets import make_classification\n",
    "\n",
    "%matplotlib inline\n",
    "t = time.time()"
   ]
  },
  {
   "cell_type": "code",
   "execution_count": 2,
   "metadata": {
    "collapsed": false
   },
   "outputs": [],
   "source": [
    "X=np.load('../../../input/nxtrain_standard_original0.npy')\n",
    "X1= np.load('../../../input/nxtrain_standard_derived0.npy')\n",
    "X2=pd.read_pickle(\"../../../input/time_series_derived_standard_train2.dat\")\n",
    "X3=pd.read_pickle(\"../../../input/time_series_original_standard_train2.dat\")\n",
    "X=np.hstack((X,X1,X2,X3))\n",
    "y=pickle.load(open(\"../../../input/ytrain2.dat\",\"rb\"))"
   ]
  },
  {
   "cell_type": "markdown",
   "metadata": {},
   "source": [
    "## Backword Feature Selection using scikit learn"
   ]
  },
  {
   "cell_type": "code",
   "execution_count": null,
   "metadata": {
    "collapsed": false
   },
   "outputs": [],
   "source": [
    "def scorer(estimator, X_test, y_test):\n",
    "    preds_cv = estimator.predict_proba(X_test)[:,1]\n",
    "    roc_auc=metrics.roc_auc_score(y_test, preds_cv)\n",
    "    return roc_auc\n",
    "\n",
    "clf = linear_model.SGDClassifier(loss='log',average=True,n_iter=40)\n",
    "selector = RFECV(estimator=clf, step=40, cv=StratifiedKFold(y, 2),\n",
    "              scoring=scorer,verbose=0)\n",
    "selector1 = selector.fit(X, y)\n",
    "# Plotting\n",
    "plt.figure()\n",
    "plt.xlabel(\"Number of features selected\")\n",
    "plt.ylabel(\"Cross validation score (nb of correct classifications)\")\n",
    "plt.plot(range(1, len(selector1.grid_scores_) + 1), selector1.grid_scores_)\n",
    "plt.show()"
   ]
  },
  {
   "cell_type": "markdown",
   "metadata": {},
   "source": [
    "## Run fitting using more iterations"
   ]
  },
  {
   "cell_type": "code",
   "execution_count": null,
   "metadata": {
    "collapsed": true
   },
   "outputs": [],
   "source": [
    "Xselect=X[:,selector1.support_]\n",
    "clf = linear_model.SGDClassifier(loss='log',average=True,n_iter=500)\n",
    "skf = cross_validation.StratifiedKFold(y, n_folds=0) # K-fold cv splitting\n",
    "for train0, cv0 in skf:\n",
    "    train, cv = train0, cv0\n",
    "    break\n",
    "\n",
    "MODEL = clf.fit(Xselect[train,:], y[train])\n",
    "AUC1=scorer(MODEL, Xselect[cv,:], y[cv])\n",
    "pathname='../../result/'\n",
    "str1=time.strftime(\"%b%d%Y%H%M%S\", time.localtime())\n",
    "filename=pathname+'SDGLogistic_'  +  str1 + '_AUC_' + str(AUC1) + '.p'\n",
    "np.arange(X.shape[1])[selector1.support_].dump(filename)\n"
   ]
  },
  {
   "cell_type": "code",
   "execution_count": null,
   "metadata": {
    "collapsed": true
   },
   "outputs": [],
   "source": []
  }
 ],
 "metadata": {
  "kernelspec": {
   "display_name": "Python 3",
   "language": "python",
   "name": "python3"
  },
  "language_info": {
   "codemirror_mode": {
    "name": "ipython",
    "version": 3
   },
   "file_extension": ".py",
   "mimetype": "text/x-python",
   "name": "python",
   "nbconvert_exporter": "python",
   "pygments_lexer": "ipython3",
   "version": "3.4.3"
  }
 },
 "nbformat": 4,
 "nbformat_minor": 0
}
