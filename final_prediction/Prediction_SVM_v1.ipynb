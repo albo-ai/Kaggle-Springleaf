{
 "cells": [
  {
   "cell_type": "code",
   "execution_count": 37,
   "metadata": {
    "collapsed": false
   },
   "outputs": [],
   "source": [
    "import pandas as pd\n",
    "import numpy as np\n",
    "import matplotlib.pylab as plt\n",
    "from scipy import stats,sparse\n",
    "from sklearn.base import TransformerMixin\n",
    "from datetime import datetime as dt\n",
    "from math import isnan\n",
    "from numpy import ma\n",
    "import pickle as pickle\n",
    "import xgboost as xgb\n",
    "import time\n",
    "from pandas import *\n",
    "from sklearn.preprocessing import LabelEncoder\n",
    "from sklearn.ensemble import RandomForestClassifier \n",
    "\n",
    "import json\n",
    "from sklearn.metrics import roc_curve, auc\n",
    "from re import sub\n",
    "from collections import defaultdict\n",
    "import scipy as sp\n",
    "\n",
    "from sklearn.cross_validation import StratifiedKFold,cross_val_score\n",
    "from sklearn.grid_search import GridSearchCV\n",
    "from sklearn.metrics import classification_report,confusion_matrix\n",
    "from sklearn import linear_model\n",
    "from sklearn import metrics\n",
    "\n",
    "#from ModelClassifier import PAClassifier,SGDSVMClassifier,XGBoostClassifier"
   ]
  },
  {
   "cell_type": "code",
   "execution_count": 28,
   "metadata": {
    "collapsed": false
   },
   "outputs": [],
   "source": [
    "FeaturesSelected=np.load('./mostrecentinput/SDGSVM_Oct172015231303_AUC_0.748204837403.p')\n",
    "X=np.load('./mostrecentinput/nxtrain_standard_original0.npy')\n",
    "X1= np.load('./mostrecentinput/nxtrain_standard_derived0.npy')\n",
    "X2=pd.read_pickle(\"./mostrecentinput/time_series_derived_standard_train2.dat\")\n",
    "X3=pd.read_pickle(\"./mostrecentinput/time_series_original_standard_train2.dat\")\n",
    "X=np.hstack((X,X1,X2,X3))\n",
    "y=pickle.load(open(\"./mostrecentinput/ytrain2.dat\",\"rb\"))\n",
    "xtrain=X[:,FeaturesSelected]\n",
    "del X,X1,X2,X3\n",
    "\n",
    "X_test=np.load('./mostrecentinput/nxtest_standard_original0.npy')\n",
    "X1_test= np.load('./mostrecentinput/nxtest_standard_derived0.npy')\n",
    "X2_test=pd.read_pickle(\"./mostrecentinput/time_series_derived_standard_test2.dat\")\n",
    "X3_test=pd.read_pickle(\"./mostrecentinput/time_series_original_standard_test2.dat\")\n",
    "X_test=np.hstack((X_test,X1_test,X2_test,X3_test))\n",
    "\n",
    "xtest=X_test[:,FeaturesSelected]\n",
    "del X_test,X1_test,X2_test,X3_test\n",
    "\n",
    "TestID=pd.read_pickle(\"./mostrecentinput/TestID.p\")"
   ]
  },
  {
   "cell_type": "code",
   "execution_count": 127,
   "metadata": {
    "collapsed": false
   },
   "outputs": [
    {
     "name": "stdout",
     "output_type": "stream",
     "text": [
      "0 40 80 120 160 200 240 280 320 360  \n",
      "[ 0.7475594  0.         0.       ]\n",
      "0 40 80 120 160 200 240 280 320 360  \n",
      "[ 0.7475594   0.75659574  0.        ]\n",
      "0 40 80 120 160 200 240 280 320 360  \n",
      "[ 0.7475594   0.75659574  0.75444948]\n"
     ]
    }
   ],
   "source": [
    "KFoldNumber=3\n",
    "niter=400\n",
    "    \n",
    "kfold = StratifiedKFold(y, KFoldNumber,shuffle=True, random_state=42)\n",
    "ypreds_train=[]\n",
    "ypreds_test_wl=pd.DataFrame()\n",
    "ypreds_train_wl=pd.DataFrame()\n",
    "ypreds_cvindex_wl=pd.DataFrame()\n",
    "indexes_cv=[]\n",
    "cv_values1=np.zeros(KFoldNumber)\n",
    "\n",
    "i=0\n",
    "model = linear_model.SGDClassifier()\n",
    "kfoldnum=0\n",
    "\n",
    "train_predicted=np.zeros(y.shape)\n",
    "\n",
    "for train,cv in kfold:\n",
    "    kfoldnum=kfoldnum+1\n",
    "    preds_cv=0\n",
    "    preds_test=0\n",
    "    preds_train=0\n",
    "    ncount=0\n",
    "    cv_index=np.zeros(y.shape)\n",
    "    for i in range(niter):\n",
    "        clf = model.fit(xtrain[train,:], y[train])\n",
    "        predcv0=clf.predict(xtrain[cv,:])\n",
    "        predtest0=clf.predict(xtest)\n",
    "        predtrain0=clf.predict(xtrain)\n",
    "        preds_cv=preds_cv+predcv0\n",
    "        preds_test=preds_test+predtest0\n",
    "        preds_train=preds_train+predtrain0\n",
    "        ncount+=1\n",
    "        if np.mod(i,round(niter/10))==0:print(i,end=' ')\n",
    "    print(' ')\n",
    "    preds_cv=preds_cv/float(ncount)\n",
    "    preds_test=preds_test/float(ncount)\n",
    "    preds_train=preds_train/float(ncount)\n",
    "    cv_index[cv]=1\n",
    "    AUC1=metrics.roc_auc_score(y[cv], preds_cv) \n",
    "    ypreds_test_wl['CV'+ str(kfoldnum)] = preds_test\n",
    "    ypreds_train_wl['CV'+ str(kfoldnum)] = preds_train\n",
    "    ypreds_cvindex_wl['CV'+ str(kfoldnum)] = cv_index\n",
    "    cv_values1[kfoldnum-1]=float(AUC1)\n",
    "    print(cv_values1)\n",
    "    i+=1\n",
    "    \n",
    "    \n",
    "str1=time.strftime(\"%b%d%Y%H%M%S\", time.localtime())\n",
    "filename='FinalModelPrediction_SVM_'  +  str1 + '_niter400_AUC'+ str(cv_values1.max())+ '.p'\n",
    "pickle.dump((ypreds_test_wl,ypreds_train_wl,ypreds_cvindex_wl,cv_values1), \n",
    "            open(filename,'wb'), protocol =2)  \n",
    "print('Model prediction done!')"
   ]
  },
  {
   "cell_type": "code",
   "execution_count": null,
   "metadata": {
    "collapsed": true
   },
   "outputs": [],
   "source": []
  }
 ],
 "metadata": {
  "kernelspec": {
   "display_name": "Python 3",
   "language": "python",
   "name": "python3"
  },
  "language_info": {
   "codemirror_mode": {
    "name": "ipython",
    "version": 3
   },
   "file_extension": ".py",
   "mimetype": "text/x-python",
   "name": "python",
   "nbconvert_exporter": "python",
   "pygments_lexer": "ipython3",
   "version": "3.4.3"
  }
 },
 "nbformat": 4,
 "nbformat_minor": 0
}
