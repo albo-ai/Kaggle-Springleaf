{
 "cells": [
  {
   "cell_type": "code",
   "execution_count": 1,
   "metadata": {
    "collapsed": false
   },
   "outputs": [],
   "source": [
    "import pandas as pd\n",
    "import numpy as np\n",
    "import matplotlib.pylab as plt\n",
    "from scipy import stats,sparse\n",
    "from sklearn.base import TransformerMixin\n",
    "from datetime import datetime as dt\n",
    "from math import isnan\n",
    "from numpy import ma\n",
    "import pickle as pickle\n",
    "import xgboost as xgb\n",
    "import time\n",
    "from pandas import *\n",
    "from sklearn.preprocessing import LabelEncoder\n",
    "from sklearn.ensemble import RandomForestClassifier \n",
    "\n",
    "import json\n",
    "from sklearn.metrics import roc_curve, auc\n",
    "from re import sub\n",
    "from collections import defaultdict\n",
    "import scipy as sp\n",
    "\n",
    "from sklearn.cross_validation import StratifiedKFold,cross_val_score\n",
    "from sklearn.grid_search import GridSearchCV\n",
    "from sklearn.metrics import classification_report,confusion_matrix\n",
    "from sklearn import linear_model\n",
    "from sklearn import metrics\n"
   ]
  },
  {
   "cell_type": "code",
   "execution_count": 4,
   "metadata": {
    "collapsed": false
   },
   "outputs": [],
   "source": [
    "FeaturesSelected=np.load('./mostrecentinput/SDGLogistic_Oct172015032138_AUC_0.768923541152.p')\n",
    "X=np.load('./mostrecentinput/nxtrain_standard_original0.npy')\n",
    "X1= np.load('./mostrecentinput/nxtrain_standard_derived0.npy')\n",
    "X2=pd.read_pickle(\"./mostrecentinput/time_series_derived_standard_train2.dat\")\n",
    "X3=pd.read_pickle(\"./mostrecentinput/time_series_original_standard_train2.dat\")\n",
    "X=np.hstack((X,X1,X2,X3))\n",
    "y=pickle.load(open(\"./mostrecentinput/ytrain2.dat\",\"rb\"))\n",
    "xtrain=X[:,FeaturesSelected]\n",
    "del X,X1,X2,X3\n",
    "\n",
    "X_test=np.load('./mostrecentinput/nxtest_standard_original0.npy')\n",
    "X_test1= np.load('./mostrecentinput/nxtest_standard_derived0.npy')\n",
    "X_test2=pd.read_pickle(\"./mostrecentinput/time_series_derived_standard_test2.dat\")\n",
    "X_test3=pd.read_pickle(\"./mostrecentinput/time_series_original_standard_test2.dat\")\n",
    "X_test=np.hstack((X_test,X_test1,X_test2,X_test3))\n",
    "xtest=X_test[:,FeaturesSelected]\n",
    "del X_test1,X_test2,X_test3\n",
    "TestID=pd.read_pickle(\"./mostrecentinput/TestID.p\")"
   ]
  },
  {
   "cell_type": "code",
   "execution_count": 12,
   "metadata": {
    "collapsed": false
   },
   "outputs": [
    {
     "name": "stdout",
     "output_type": "stream",
     "text": [
      "[ 0.76617212  0.          0.        ]\n",
      "[ 0.76617212  0.77236154  0.        ]\n",
      "[ 0.76617212  0.77236154  0.77012077]\n",
      "0.76953169879\n",
      "Model prediction done!\n"
     ]
    }
   ],
   "source": [
    "n_iterations=500\n",
    "KFoldNumber=3\n",
    "kfold = StratifiedKFold(y, KFoldNumber,shuffle=True, random_state=42)\n",
    "ypreds_test_wl=pd.DataFrame()\n",
    "ypreds_train_wl=pd.DataFrame()\n",
    "ypreds_cvindex_wl=pd.DataFrame()\n",
    "AUCValues=np.zeros(KFoldNumber)\n",
    "\n",
    "clf = linear_model.SGDClassifier(loss='log',average=True,n_iter=n_iterations)\n",
    "\n",
    "''' \n",
    "clf = linear_model.SGDClassifier(alpha=0.0031622776601683794, average=True, class_weight='auto',\n",
    "       epsilon=0.1, eta0=0.0, fit_intercept=True, l1_ratio=0,\n",
    "       learning_rate='optimal', loss='log', n_iter=500, n_jobs=1,\n",
    "       penalty='elasticnet', power_t=0.5, random_state=123, shuffle=True,\n",
    "       verbose=0, warm_start=False)\n",
    "'''\n",
    "\n",
    "kfoldnum=0\n",
    "train_predicted=np.zeros(y.shape)\n",
    "for train,cv in kfold:\n",
    "    kfoldnum=kfoldnum+1\n",
    "    cv_index=np.zeros(y.shape)\n",
    "    MODEL = clf.fit(xtrain[train,:], y[train])\n",
    "    preds_cv = MODEL.predict_proba(xtrain[cv,:])[:,1]\n",
    "    preds_fulltrain = MODEL.predict_proba(xtrain)[:,1]\n",
    "    preds_fulltest = MODEL.predict_proba(xtest)[:,1]\n",
    "    cv_index[cv]=1\n",
    "    AUC1=metrics.roc_auc_score(y[cv], preds_cv)\n",
    "    ypreds_test_wl['CV'+ str(kfoldnum)] = preds_fulltest\n",
    "    ypreds_train_wl['CV'+ str(kfoldnum)] = preds_fulltrain\n",
    "    ypreds_cvindex_wl['CV'+ str(kfoldnum)] = cv_index\n",
    "    AUCValues[kfoldnum-1]=float(AUC1)\n",
    "    print(AUCValues)\n",
    "\n",
    "trainPredict=(ypreds_train_wl*ypreds_cvindex_wl).sum(axis=1)\n",
    "testPredictMean=ypreds_test_wl.mean(axis=1)\n",
    "AUC1=metrics.roc_auc_score(y, trainPredict)\n",
    "print(AUC1)\n",
    "\n",
    "str1=time.strftime(\"%b%d%Y%H%M%S\", time.localtime())\n",
    "str2= ' _AUC_0p'+ str(int(AUC1.mean()*1e6))\n",
    "filename0='FinalModelPrediction_Logistic_YF'+str1+'_niter' + str(n_iterations)+str2\n",
    "filename=filename0 +'.p'\n",
    "\n",
    "pickle.dump((ypreds_train_wl,ypreds_test_wl,ypreds_cvindex_wl,AUCValues), \n",
    "            open(filename,'wb'), protocol =2) \n",
    "\n",
    "save_train_name=filename0 +'_wl_ypredtrain.pkl'\n",
    "save_test_name=filename0 +'_wl_ypredtest.pkl'\n",
    "\n",
    "pickle.dump(trainPredict,open(save_train_name,'wb'),protocol=2)\n",
    "pickle.dump(testPredictMean,open(save_test_name,'wb'),protocol=2)\n",
    "\n",
    "print('Model prediction done!')"
   ]
  }
 ],
 "metadata": {
  "kernelspec": {
   "display_name": "Python 3",
   "language": "python",
   "name": "python3"
  },
  "language_info": {
   "codemirror_mode": {
    "name": "ipython",
    "version": 3
   },
   "file_extension": ".py",
   "mimetype": "text/x-python",
   "name": "python",
   "nbconvert_exporter": "python",
   "pygments_lexer": "ipython3",
   "version": "3.4.3"
  }
 },
 "nbformat": 4,
 "nbformat_minor": 0
}
